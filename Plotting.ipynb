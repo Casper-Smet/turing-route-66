{
 "cells": [
  {
   "cell_type": "code",
   "execution_count": 1,
   "metadata": {},
   "outputs": [],
   "source": [
    "from route_66.visualisation import plot_simulation\n",
    "from route_66.batch_run import plot_batch\n",
    "\n",
    "import pandas as pd"
   ]
  },
  {
   "cell_type": "code",
   "execution_count": 2,
   "metadata": {},
   "outputs": [],
   "source": [
    "plot_simulation(100, 35, length=100, p=0.3, grid=True)"
   ]
  },
  {
   "cell_type": "markdown",
   "metadata": {},
   "source": [
    "## Analysis\n",
    "### Plot\n",
    "Plot containing boxplots visualising the effects of timer length and initial number of cars on average velocity:"
   ]
  },
  {
   "cell_type": "code",
   "execution_count": 3,
   "metadata": {},
   "outputs": [],
   "source": [
    "data = plot_batch(N=[10, 25, 35], timer=[0, 1, 2, 4, 6], iterations=20)"
   ]
  },
  {
   "cell_type": "markdown",
   "metadata": {},
   "source": [
    "### Using Pandas\n"
   ]
  },
  {
   "cell_type": "code",
   "execution_count": 4,
   "metadata": {},
   "outputs": [],
   "source": [
    "# Drop Run, length and lanes, and group Dataframe by initial cars on road \n",
    "N_data = data.drop([\"Run\", \"length\", \"lanes\"], axis=1).groupby(\"N\")\n",
    "\n",
    "# For each group, split from dataframe, group by timer, find mean for velocity and STD, sort by Average velocity\n",
    "timer_data = [N_data.get_group(x).groupby(\"timer\").mean().sort_values(\"Average Velocity\", ascending=False) for x in N_data.groups]"
   ]
  },
  {
   "cell_type": "code",
   "execution_count": 5,
   "metadata": {},
   "outputs": [],
   "source": [
    "mean_data = pd.concat(timer_data)\n",
    "mean_data"
   ]
  },
  {
   "cell_type": "markdown",
   "metadata": {},
   "source": [
    "For each variation of N, the timer with a length of 6 grants the greatest average average velocity. It usually also grants a lower or the lowest average standard deviation for its N.   \n",
    "\n",
    "The greater the amount of initial cars, the lesser the impact of timer length. "
   ]
  }
 ],
 "metadata": {
  "kernelspec": {
   "display_name": "Python 3",
   "language": "python",
   "name": "python3"
  },
  "language_info": {
   "codemirror_mode": {
    "name": "ipython",
    "version": 3
   },
   "file_extension": ".py",
   "mimetype": "text/x-python",
   "name": "python",
   "nbconvert_exporter": "python",
   "pygments_lexer": "ipython3",
   "version": "3.7.5"
  },
  "pycharm": {
   "stem_cell": {
    "cell_type": "raw",
    "source": [],
    "metadata": {
     "collapsed": false
    }
   }
  }
 },
 "nbformat": 4,
 "nbformat_minor": 2
}